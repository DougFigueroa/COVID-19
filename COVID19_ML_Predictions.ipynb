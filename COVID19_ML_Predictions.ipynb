{
 "cells": [
  {
   "cell_type": "markdown",
   "metadata": {},
   "source": [
    "# Process COVID19 data, and make machine learning predictions over it"
   ]
  },
  {
   "cell_type": "code",
   "execution_count": 36,
   "metadata": {},
   "outputs": [],
   "source": [
    "import pandas as pd\n",
    "import numpy as np\n",
    "from sklearn.model_selection import train_test_split\n",
    "from sklearn import linear_model\n",
    "from sklearn.compose import ColumnTransformer\n",
    "from sklearn.impute import SimpleImputer\n",
    "from sklearn.preprocessing import OneHotEncoder\n",
    "from glob import glob\n"
   ]
  },
  {
   "cell_type": "code",
   "execution_count": 38,
   "metadata": {},
   "outputs": [],
   "source": [
    "DEBUG=True"
   ]
  },
  {
   "cell_type": "code",
   "execution_count": 40,
   "metadata": {},
   "outputs": [],
   "source": [
    "# get the last version of the daily reports\n",
    "all_report_files=glob('csse_covid_19_data\\csse_covid_19_daily_reports\\*.csv')\n",
    "all_filenames=[]\n",
    "for file in all_report_files:\n",
    "    filename= file.split('\\\\')[2]\n",
    "    all_filenames.append(filename)\n",
    "all_filenames.sort(reverse=True)\n",
    "last_file_path='csse_covid_19_data/csse_covid_19_daily_reports/'+all_filenames[0]"
   ]
  },
  {
   "cell_type": "code",
   "execution_count": 43,
   "metadata": {},
   "outputs": [
    {
     "data": {
      "text/html": [
       "<div>\n",
       "<style scoped>\n",
       "    .dataframe tbody tr th:only-of-type {\n",
       "        vertical-align: middle;\n",
       "    }\n",
       "\n",
       "    .dataframe tbody tr th {\n",
       "        vertical-align: top;\n",
       "    }\n",
       "\n",
       "    .dataframe thead th {\n",
       "        text-align: right;\n",
       "    }\n",
       "</style>\n",
       "<table border=\"1\" class=\"dataframe\">\n",
       "  <thead>\n",
       "    <tr style=\"text-align: right;\">\n",
       "      <th></th>\n",
       "      <th>Province/State</th>\n",
       "      <th>Country/Region</th>\n",
       "      <th>Last Update</th>\n",
       "      <th>Confirmed</th>\n",
       "      <th>Deaths</th>\n",
       "      <th>Recovered</th>\n",
       "      <th>Latitude</th>\n",
       "      <th>Longitude</th>\n",
       "    </tr>\n",
       "  </thead>\n",
       "  <tbody>\n",
       "    <tr>\n",
       "      <th>0</th>\n",
       "      <td>Hubei</td>\n",
       "      <td>China</td>\n",
       "      <td>2020-03-13 11:09:03</td>\n",
       "      <td>67786</td>\n",
       "      <td>3062</td>\n",
       "      <td>51553</td>\n",
       "      <td>30.9756</td>\n",
       "      <td>112.2707</td>\n",
       "    </tr>\n",
       "    <tr>\n",
       "      <th>1</th>\n",
       "      <td>Guangdong</td>\n",
       "      <td>China</td>\n",
       "      <td>2020-03-13 11:09:03</td>\n",
       "      <td>1356</td>\n",
       "      <td>8</td>\n",
       "      <td>1296</td>\n",
       "      <td>23.3417</td>\n",
       "      <td>113.4244</td>\n",
       "    </tr>\n",
       "    <tr>\n",
       "      <th>2</th>\n",
       "      <td>Henan</td>\n",
       "      <td>China</td>\n",
       "      <td>2020-03-11 08:13:09</td>\n",
       "      <td>1273</td>\n",
       "      <td>22</td>\n",
       "      <td>1249</td>\n",
       "      <td>33.8820</td>\n",
       "      <td>113.6140</td>\n",
       "    </tr>\n",
       "    <tr>\n",
       "      <th>3</th>\n",
       "      <td>Zhejiang</td>\n",
       "      <td>China</td>\n",
       "      <td>2020-03-12 01:33:02</td>\n",
       "      <td>1215</td>\n",
       "      <td>1</td>\n",
       "      <td>1197</td>\n",
       "      <td>29.1832</td>\n",
       "      <td>120.0934</td>\n",
       "    </tr>\n",
       "    <tr>\n",
       "      <th>4</th>\n",
       "      <td>Hunan</td>\n",
       "      <td>China</td>\n",
       "      <td>2020-03-13 11:09:03</td>\n",
       "      <td>1018</td>\n",
       "      <td>4</td>\n",
       "      <td>1005</td>\n",
       "      <td>27.6104</td>\n",
       "      <td>111.7088</td>\n",
       "    </tr>\n",
       "    <tr>\n",
       "      <th>5</th>\n",
       "      <td>Anhui</td>\n",
       "      <td>China</td>\n",
       "      <td>2020-03-11 02:18:14</td>\n",
       "      <td>990</td>\n",
       "      <td>6</td>\n",
       "      <td>984</td>\n",
       "      <td>31.8257</td>\n",
       "      <td>117.2264</td>\n",
       "    </tr>\n",
       "    <tr>\n",
       "      <th>6</th>\n",
       "      <td>Jiangxi</td>\n",
       "      <td>China</td>\n",
       "      <td>2020-03-12 02:13:04</td>\n",
       "      <td>935</td>\n",
       "      <td>1</td>\n",
       "      <td>934</td>\n",
       "      <td>27.6140</td>\n",
       "      <td>115.7221</td>\n",
       "    </tr>\n",
       "    <tr>\n",
       "      <th>7</th>\n",
       "      <td>Shandong</td>\n",
       "      <td>China</td>\n",
       "      <td>2020-03-13 11:09:03</td>\n",
       "      <td>760</td>\n",
       "      <td>7</td>\n",
       "      <td>739</td>\n",
       "      <td>36.3427</td>\n",
       "      <td>118.1498</td>\n",
       "    </tr>\n",
       "    <tr>\n",
       "      <th>8</th>\n",
       "      <td>Jiangsu</td>\n",
       "      <td>China</td>\n",
       "      <td>2020-03-13 11:09:03</td>\n",
       "      <td>631</td>\n",
       "      <td>0</td>\n",
       "      <td>630</td>\n",
       "      <td>32.9711</td>\n",
       "      <td>119.4550</td>\n",
       "    </tr>\n",
       "    <tr>\n",
       "      <th>9</th>\n",
       "      <td>Chongqing</td>\n",
       "      <td>China</td>\n",
       "      <td>2020-03-13 23:13:12</td>\n",
       "      <td>576</td>\n",
       "      <td>6</td>\n",
       "      <td>566</td>\n",
       "      <td>30.0572</td>\n",
       "      <td>107.8740</td>\n",
       "    </tr>\n",
       "  </tbody>\n",
       "</table>\n",
       "</div>"
      ],
      "text/plain": [
       "  Province/State Country/Region         Last Update  Confirmed  Deaths  \\\n",
       "0          Hubei          China 2020-03-13 11:09:03      67786    3062   \n",
       "1      Guangdong          China 2020-03-13 11:09:03       1356       8   \n",
       "2          Henan          China 2020-03-11 08:13:09       1273      22   \n",
       "3       Zhejiang          China 2020-03-12 01:33:02       1215       1   \n",
       "4          Hunan          China 2020-03-13 11:09:03       1018       4   \n",
       "5          Anhui          China 2020-03-11 02:18:14        990       6   \n",
       "6        Jiangxi          China 2020-03-12 02:13:04        935       1   \n",
       "7       Shandong          China 2020-03-13 11:09:03        760       7   \n",
       "8        Jiangsu          China 2020-03-13 11:09:03        631       0   \n",
       "9      Chongqing          China 2020-03-13 23:13:12        576       6   \n",
       "\n",
       "   Recovered  Latitude  Longitude  \n",
       "0      51553   30.9756   112.2707  \n",
       "1       1296   23.3417   113.4244  \n",
       "2       1249   33.8820   113.6140  \n",
       "3       1197   29.1832   120.0934  \n",
       "4       1005   27.6104   111.7088  \n",
       "5        984   31.8257   117.2264  \n",
       "6        934   27.6140   115.7221  \n",
       "7        739   36.3427   118.1498  \n",
       "8        630   32.9711   119.4550  \n",
       "9        566   30.0572   107.8740  "
      ]
     },
     "execution_count": 43,
     "metadata": {},
     "output_type": "execute_result"
    }
   ],
   "source": [
    "data = pd.read_csv(last_file_path, parse_dates=['Last Update'])\n",
    "data[:10]"
   ]
  },
  {
   "cell_type": "code",
   "execution_count": 42,
   "metadata": {},
   "outputs": [
    {
     "name": "stdout",
     "output_type": "stream",
     "text": [
      "Quantity of registers: 231\n",
      "Quantity of features: 8\n"
     ]
    }
   ],
   "source": [
    "if DEBUG:\n",
    "    rows, features=data.shape\n",
    "    print(f'Quantity of registers: {rows}')\n",
    "    print(f'Quantity of features: {features}')\n"
   ]
  },
  {
   "cell_type": "markdown",
   "metadata": {},
   "source": [
    "### Start preprocessing and cleaning the data"
   ]
  },
  {
   "cell_type": "code",
   "execution_count": 71,
   "metadata": {},
   "outputs": [
    {
     "data": {
      "text/plain": [
       "0      False\n",
       "1      False\n",
       "2      False\n",
       "3      False\n",
       "4      False\n",
       "5      False\n",
       "6      False\n",
       "7      False\n",
       "8      False\n",
       "9      False\n",
       "10     False\n",
       "11     False\n",
       "12     False\n",
       "13     False\n",
       "14     False\n",
       "15     False\n",
       "16     False\n",
       "17     False\n",
       "18     False\n",
       "19     False\n",
       "20     False\n",
       "21     False\n",
       "22     False\n",
       "23     False\n",
       "24     False\n",
       "25     False\n",
       "26     False\n",
       "27     False\n",
       "28     False\n",
       "29     False\n",
       "       ...  \n",
       "201    False\n",
       "202    False\n",
       "203    False\n",
       "204    False\n",
       "205    False\n",
       "206    False\n",
       "207    False\n",
       "208    False\n",
       "209    False\n",
       "210    False\n",
       "211    False\n",
       "212    False\n",
       "213    False\n",
       "214    False\n",
       "215    False\n",
       "216    False\n",
       "217    False\n",
       "218    False\n",
       "219    False\n",
       "220    False\n",
       "221    False\n",
       "222    False\n",
       "223    False\n",
       "224    False\n",
       "225    False\n",
       "226    False\n",
       "227    False\n",
       "228    False\n",
       "229    False\n",
       "230    False\n",
       "Name: Country/Region, Length: 231, dtype: bool"
      ]
     },
     "execution_count": 71,
     "metadata": {},
     "output_type": "execute_result"
    }
   ],
   "source": [
    "data_transforms=ColumnTransformer([\n",
    "    ('fill_states_nulls'),\n",
    "    ('fill_countries_nulls')\n",
    "])"
   ]
  },
  {
   "cell_type": "code",
   "execution_count": 61,
   "metadata": {},
   "outputs": [
    {
     "name": "stdout",
     "output_type": "stream",
     "text": [
      "Removing instances 16\n",
      "Removing instances 26\n",
      "Removing instances 87\n",
      "Last update column cleaned\n"
     ]
    }
   ],
   "source": [
    "for i in data.index:\n",
    "    if data.loc[i,'Last Update'].startswith('##'):\n",
    "        print(f'Removing instances {i}')\n",
    "        data.drop(index=i,inplace=True)\n",
    "print('Last update column cleaned')"
   ]
  },
  {
   "cell_type": "code",
   "execution_count": 62,
   "metadata": {},
   "outputs": [],
   "source": [
    "data['Confirmed']=data['Confirmed'].fillna(0)\n",
    "data['Deaths']=data['Deaths'].fillna(0)\n",
    "data['Recovered']=data['Recovered'].fillna(0)"
   ]
  },
  {
   "cell_type": "code",
   "execution_count": 63,
   "metadata": {},
   "outputs": [
    {
     "data": {
      "text/plain": [
       "Date               object\n",
       "Province/State     object\n",
       "Country            object\n",
       "Last Update        object\n",
       "Confirmed         float64\n",
       "Deaths            float64\n",
       "Recovered         float64\n",
       "dtype: object"
      ]
     },
     "execution_count": 63,
     "metadata": {},
     "output_type": "execute_result"
    }
   ],
   "source": [
    "data.dtypes"
   ]
  },
  {
   "cell_type": "code",
   "execution_count": 64,
   "metadata": {},
   "outputs": [],
   "source": [
    "data['Last Update']=pd.to_datetime(data['Last Update'])\n",
    "for i in data.index:\n",
    "    data.at[i,'Day']=data.loc[i,'Last Update'].dayofyear\n",
    "    "
   ]
  },
  {
   "cell_type": "code",
   "execution_count": 65,
   "metadata": {},
   "outputs": [],
   "source": [
    "X = data[['Province/State', 'Country', 'Day']]\n",
    "y = data['Confirmed']"
   ]
  },
  {
   "cell_type": "code",
   "execution_count": 68,
   "metadata": {},
   "outputs": [],
   "source": [
    "column_transform= ColumnTransformer([\n",
    "    ('Missing providences', SimpleImputer(strategy='constant', fill_value='Country'), ['Province/State']),\n",
    "    ('Missing country', SimpleImputer(strategy='constant', fill_value='Place'), ['Country'])\n",
    "], remainder='passthrough')"
   ]
  },
  {
   "cell_type": "code",
   "execution_count": 69,
   "metadata": {},
   "outputs": [],
   "source": [
    "X = column_transform.fit_transform(X)"
   ]
  },
  {
   "cell_type": "code",
   "execution_count": 73,
   "metadata": {},
   "outputs": [],
   "source": [
    "column_transform=ColumnTransformer([('Onehot', OneHotEncoder(dtype='int'), [0,1])], remainder='passthrough')"
   ]
  },
  {
   "cell_type": "code",
   "execution_count": 75,
   "metadata": {},
   "outputs": [],
   "source": [
    "X = column_transform.fit_transform(X)"
   ]
  },
  {
   "cell_type": "code",
   "execution_count": 78,
   "metadata": {},
   "outputs": [],
   "source": [
    "X_train, X_test, y_train, y_test = train_test_split(X, y, test_size=2, random_state=8)"
   ]
  },
  {
   "cell_type": "code",
   "execution_count": 79,
   "metadata": {},
   "outputs": [],
   "source": [
    "X_train=np.nan_to_num(X_train)"
   ]
  },
  {
   "cell_type": "code",
   "execution_count": 81,
   "metadata": {},
   "outputs": [
    {
     "data": {
      "text/plain": [
       "LinearRegression(copy_X=True, fit_intercept=True, n_jobs=None,\n",
       "         normalize=False)"
      ]
     },
     "execution_count": 81,
     "metadata": {},
     "output_type": "execute_result"
    }
   ],
   "source": [
    "regression = linear_model.LinearRegression()\n",
    "regression.fit(X_train, y_train)"
   ]
  },
  {
   "cell_type": "code",
   "execution_count": 82,
   "metadata": {},
   "outputs": [
    {
     "data": {
      "text/plain": [
       "0.0"
      ]
     },
     "execution_count": 82,
     "metadata": {},
     "output_type": "execute_result"
    }
   ],
   "source": [
    "regression.score(X_test, y_test)"
   ]
  },
  {
   "cell_type": "code",
   "execution_count": 83,
   "metadata": {},
   "outputs": [],
   "source": [
    "data_to_predict = ['Hubei','Mainland China',100]\n",
    "data_to_predict = column_transform.transform([data_to_predict])\n",
    "contaminados=regression.predict(data_to_predict)"
   ]
  },
  {
   "cell_type": "code",
   "execution_count": 84,
   "metadata": {},
   "outputs": [
    {
     "name": "stdout",
     "output_type": "stream",
     "text": [
      "habran estos contaminados: [21950.68911718]\n"
     ]
    }
   ],
   "source": [
    "print(f'habran estos contaminados: {contaminados}')"
   ]
  }
 ],
 "metadata": {
  "kernelspec": {
   "display_name": "Python 3",
   "language": "python",
   "name": "python3"
  },
  "language_info": {
   "codemirror_mode": {
    "name": "ipython",
    "version": 3
   },
   "file_extension": ".py",
   "mimetype": "text/x-python",
   "name": "python",
   "nbconvert_exporter": "python",
   "pygments_lexer": "ipython3",
   "version": "3.7.3"
  }
 },
 "nbformat": 4,
 "nbformat_minor": 2
}
